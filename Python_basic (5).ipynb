{
  "nbformat": 4,
  "nbformat_minor": 0,
  "metadata": {
    "colab": {
      "provenance": []
    },
    "kernelspec": {
      "name": "python3",
      "display_name": "Python 3"
    },
    "language_info": {
      "name": "python"
    }
  },
  "cells": [
    {
      "cell_type": "markdown",
      "source": [
        "# python basic\n",
        "\n",
        "1. What is Python, and why is it popular?\n",
        "   - Python is a high-level, interpreted programming language known for its readability, simplicity, and versatility. It was created by Guido van Rossum and released in 1991. Python's design philosophy emphasizes code readability and simplicity, making it an excellent choice for beginners while still being powerful enough for experienced developers\n",
        "   - it is popular because :- Easy to Learn and Use, Versatile and Powerfull,\n",
        "     Large Community and Support, Extensive Libraries and Frameworks\n",
        "\n",
        "2. What is an interpreter in Python?\n",
        "   - interpreter is a program that reads and executes Python code line by line, translating it into machine-readable instructions that the computer can understand and execute\n",
        "\n",
        "3. What are pre-defined keywords in Python?\n",
        "   - pre-defined keywords (also known as reserved words) are special words that have a specific meaning in the language. These keywords cannot be used as identifiers (such as variable names, function names, etc.) because they are part of the syntax of the language. They are reserved for defining the structure and behavior of the Python program.\n",
        "\n",
        "4. Can keywords be used as variable names?\n",
        "   - No, keywords in Python cannot be used as variable names (or function names, class names, etc.). Keywords are reserved by the Python language for specific purposes and have predefined meanings in the language's syntax.\n",
        "\n",
        "5. What is mutability in Python?\n",
        "   - Mutability in Python refers to whether an object can be modified after it is created\n",
        "   - eg = sets, dictonary, sets.\n",
        "\n",
        "6. Why are lists mutable, but tuples are immutable?\n",
        "   - list are mutable becasue they can be modified after creation and they can be iterate also\n",
        "   - Lists are designed to be flexible and dynamic collections. You often want to modify a list by adding, removing, or changing its elements. This makes lists useful when you need a collection that changes over time\n",
        "   - tuple are immutable because they can not be modified after creation\n",
        "   - Tuples, on the other hand, are designed to represent fixed collections of items. They are often used for representing data that should not change after creation\n",
        "\n",
        "7. What is the difference between “==” and “is” operators in Python?\n",
        "   - In Python, both the == operator and the is operator are used for comparison\n",
        "   - (==) is equality operator. It compares the contents of two objects to determine if they are equal\n",
        "   - (is) it is a identity operator It compares whether two references point to the same object in memory, not whether their values are the same.\n",
        "\n",
        "8. What are logical operators in Python?\n",
        "   -  logical operators are used to combine conditional statements (like those using if, while, etc.) and evaluate multiple expressions. They allow you to make decisions based on the combination of conditions.\n",
        "   - there are three logical operator :-  logical AND, logical OR, logical NOT\n",
        "\n",
        "9. What is type casting in Python?\n",
        "   - Type casting in Python refers to the process of converting a variable from one data type to another. This allows you to change the type of a value in your program to suit the specific operations or functions you're performing. Python provides implicit (automatic) and explicit (manual) type casting.\n",
        "\n",
        "10. What is the difference between implicit and explicit type casting?\n",
        "    - In implicit type casting, Python automatically converts a smaller data type into a larger data type without any user intervention. This typically happens when there's no risk of data loss\n",
        "    - Explicit type casting requires you to manually convert a variable from one type to another using Python’s built-in functions.\n",
        "\n",
        "11. What is the purpose of conditional statements in Python?\n",
        "    - conditional statement are if-else statement\n",
        "    - The purpose of conditional statements is to enable the program to respond to different situations dynamically. By using conditionals, you can create logical branches in your code that allow it to make decisions based on the values of variables, user input, or other runtime factors\n",
        "\n",
        "12. How does the elif statement work?\n",
        "    - You start with an if statement to check a condition.\n",
        "\n",
        "    - If the condition in the if statement is False, you can use one or more elif statements to check additional conditions.\n",
        "\n",
        "    -  If none of the if or elif conditions are True, you can use an else statement to provide a default action\n",
        "\n",
        "13. What is the difference between for and while loops?\n",
        "    - The for loop is used to iterate over a sequence (like a list, tuple, string, or range) and execute a block of code for each item in that sequence. It's ideal when the number of iterations is known or when you're iterating over a collection\n",
        "    - The while loop repeatedly executes a block of code as long as a condition is True. It is typically used when the number of iterations is not known beforehand and depends on the result of the condition\n",
        "\n",
        "14. Describe a scenario where a while loop is more suitable than a for loop?\n",
        "    - A while loop is more suitable than a for loop when the number of iterations is unknown in advance and depends on a condition that may change during the loop's execution\n",
        "    - scenario = USER AUTHENTICATION   Imagine you're building a system where a user has to input a correct password to gain access. You want the program to repeatedly ask for the password until the user provides the correct one, but you don’t know how many attempts the user will need\n",
        "\n",
        "                                         "
      ],
      "metadata": {
        "id": "mmvNfHvNOwHP"
      }
    },
    {
      "cell_type": "code",
      "execution_count": null,
      "metadata": {
        "id": "3_CMSls2Oj-G"
      },
      "outputs": [],
      "source": []
    }
  ]
}